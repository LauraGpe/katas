{
 "cells": [
  {
   "cell_type": "markdown",
   "metadata": {},
   "source": [
    "Tu primer programa"
   ]
  },
  {
   "cell_type": "code",
   "execution_count": 3,
   "metadata": {},
   "outputs": [
    {
     "name": "stdout",
     "output_type": "stream",
     "text": [
      "La fecha de hoy es: 2022-02-14\n"
     ]
    }
   ],
   "source": [
    "from datetime import date\n",
    "print('La fecha de hoy es:', date.today())"
   ]
  },
  {
   "cell_type": "markdown",
   "metadata": {},
   "source": [
    "Construir un convertidor de unidades"
   ]
  },
  {
   "cell_type": "code",
   "execution_count": 7,
   "metadata": {},
   "outputs": [
    {
     "name": "stdout",
     "output_type": "stream",
     "text": [
      "Este programa convierte de parsec a años luz\n",
      "2 parsec ess igual a 6.52312 años luz\n"
     ]
    }
   ],
   "source": [
    "print(\"Este programa convierte de parsec a años luz\")\n",
    "parsec = input(\"Introduzca los parsec que desea convertir\")\n",
    "lightyear = 3.26156 * float(parsec)\n",
    "print(str(parsec), \"parsec es igual a\", str(lightyear), \"años luz\")"
   ]
  }
 ],
 "metadata": {
  "interpreter": {
   "hash": "d30decb9dfde37d8f850b44843ab5ccdd54fe4a23596b390493d093d2ea85287"
  },
  "kernelspec": {
   "display_name": "Python 3.10.2 64-bit",
   "language": "python",
   "name": "python3"
  },
  "language_info": {
   "codemirror_mode": {
    "name": "ipython",
    "version": 3
   },
   "file_extension": ".py",
   "mimetype": "text/x-python",
   "name": "python",
   "nbconvert_exporter": "python",
   "pygments_lexer": "ipython3",
   "version": "3.10.2"
  },
  "orig_nbformat": 4
 },
 "nbformat": 4,
 "nbformat_minor": 2
}
